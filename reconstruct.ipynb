{
 "cells": [
  {
   "cell_type": "code",
   "execution_count": 1,
   "metadata": {},
   "outputs": [
    {
     "name": "stderr",
     "output_type": "stream",
     "text": [
      "/home/eugene/.local/lib/python3.10/site-packages/matplotlib/projections/__init__.py:63: UserWarning: Unable to import Axes3D. This may be due to multiple versions of Matplotlib being installed (e.g. as a system package and as a pip package). As a result, the 3D projection is not available.\n",
      "  warnings.warn(\"Unable to import Axes3D. This may be due to multiple versions of \"\n"
     ]
    }
   ],
   "source": [
    "from osgeo import gdal, gdal_array\n",
    "import numpy as np\n",
    "import matplotlib.pyplot as plt\n",
    "import os"
   ]
  },
  {
   "cell_type": "code",
   "execution_count": 2,
   "metadata": {},
   "outputs": [],
   "source": [
    "fn = \"data/3/data.TIF\"\n",
    "fn_mod = \"data/3/data_mod.TIF\"\n",
    "fn_res = \"data/3/data_res.TIF\""
   ]
  },
  {
   "cell_type": "code",
   "execution_count": 3,
   "metadata": {},
   "outputs": [],
   "source": [
    "os.remove(fn_mod) if os.path.exists(fn_mod) else None\n",
    "os.remove(fn_res) if os.path.exists(fn_res) else None\n",
    "ds = gdal.Open(fn, gdal.GA_ReadOnly)"
   ]
  },
  {
   "cell_type": "code",
   "execution_count": 4,
   "metadata": {},
   "outputs": [
    {
     "name": "stdout",
     "output_type": "stream",
     "text": [
      "Projection:  PROJCS[\"WGS 84 / UTM zone 48N\",GEOGCS[\"WGS 84\",DATUM[\"WGS_1984\",SPHEROID[\"WGS 84\",6378137,298.257223563,AUTHORITY[\"EPSG\",\"7030\"]],AUTHORITY[\"EPSG\",\"6326\"]],PRIMEM[\"Greenwich\",0,AUTHORITY[\"EPSG\",\"8901\"]],UNIT[\"degree\",0.0174532925199433,AUTHORITY[\"EPSG\",\"9122\"]],AUTHORITY[\"EPSG\",\"4326\"]],PROJECTION[\"Transverse_Mercator\"],PARAMETER[\"latitude_of_origin\",0],PARAMETER[\"central_meridian\",105],PARAMETER[\"scale_factor\",0.9996],PARAMETER[\"false_easting\",500000],PARAMETER[\"false_northing\",0],UNIT[\"metre\",1,AUTHORITY[\"EPSG\",\"9001\"]],AXIS[\"Easting\",EAST],AXIS[\"Northing\",NORTH],AUTHORITY[\"EPSG\",\"32648\"]]\n",
      "Geotransform:  (246717.33307071, 0.3, 0.0, 1989720.3061312002, 0.0, -0.3)\n",
      "Columns: 16384\n",
      "Rows: 12344\n",
      "Band count: 4\n",
      "Size :  1618052106\n"
     ]
    }
   ],
   "source": [
    "print(\"Projection: \", ds.GetProjection())  # get projection\n",
    "print(\"Geotransform: \", ds.GetGeoTransform())\n",
    "print(\"Columns:\", ds.RasterXSize)  # number of columns\n",
    "print(\"Rows:\", ds.RasterYSize)  # number of rows\n",
    "print(\"Band count:\", ds.RasterCount)  # number of bands\n",
    "print(\"Size : \", os.path.getsize(fn))"
   ]
  },
  {
   "cell_type": "code",
   "execution_count": 5,
   "metadata": {},
   "outputs": [],
   "source": [
    "def copy_geo_transform_and_projection(from_dataset, to_dataset):\n",
    "    to_dataset.SetGeoTransform(from_dataset.GetGeoTransform())\n",
    "    to_dataset.SetProjection(from_dataset.GetProjection())"
   ]
  },
  {
   "cell_type": "code",
   "execution_count": 6,
   "metadata": {},
   "outputs": [],
   "source": [
    "n = ds.RasterCount\n",
    "n_del = 2\n",
    "data_del = ds.GetRasterBand(n_del).ReadAsArray()\n",
    "data_type = ds.GetRasterBand(n_del).DataType\n",
    "metadata = ds.GetMetadata('IMAGE_STRUCTURE')\n",
    "compress = False\n",
    "\n",
    "# if 'COMPRESSION' in metadata:\n",
    "#     compress = True\n",
    "#     print(metadata['COMPRESSION'])\n",
    "#     options = [\"COMPRESS=\" + metadata['COMPRESSION']]\n",
    "compress = True\n",
    "options = [\"COMPRESS=DEFLATE\"]"
   ]
  },
  {
   "cell_type": "code",
   "execution_count": 7,
   "metadata": {},
   "outputs": [],
   "source": [
    "driver = gdal.GetDriverByName('GTiff')\n",
    "\n",
    "if compress:\n",
    "    ds_mod = driver.Create(fn_mod, ds.RasterXSize, ds.RasterYSize, n - 1, data_type, options=options)\n",
    "else:\n",
    "    ds_mod = driver.Create(fn_mod, ds.RasterXSize, ds.RasterYSize, n - 1, data_type)\n",
    "\n",
    "copy_geo_transform_and_projection(ds, ds_mod)"
   ]
  },
  {
   "cell_type": "code",
   "execution_count": 8,
   "metadata": {},
   "outputs": [],
   "source": [
    "band_index = 1\n",
    "\n",
    "for src_band_num in range(1, n + 1):\n",
    "    if src_band_num == n_del:\n",
    "        continue  # Skip the 2nd band\n",
    "    src_band = ds.GetRasterBand(src_band_num)\n",
    "\n",
    "    # Adjust the band number for the destination raster\n",
    "    dst_band_num = src_band_num if src_band_num < n_del else src_band_num - 1\n",
    "    dst_band = ds_mod.GetRasterBand(dst_band_num)\n",
    "\n",
    "    # Read the data from the source band and write it to the destination band\n",
    "    band_data = src_band.ReadAsArray()\n",
    "    dst_band.WriteArray(band_data)"
   ]
  },
  {
   "cell_type": "code",
   "execution_count": 9,
   "metadata": {},
   "outputs": [
    {
     "name": "stdout",
     "output_type": "stream",
     "text": [
      "Projection:  PROJCS[\"WGS 84 / UTM zone 48N\",GEOGCS[\"WGS 84\",DATUM[\"WGS_1984\",SPHEROID[\"WGS 84\",6378137,298.257223563,AUTHORITY[\"EPSG\",\"7030\"]],AUTHORITY[\"EPSG\",\"6326\"]],PRIMEM[\"Greenwich\",0,AUTHORITY[\"EPSG\",\"8901\"]],UNIT[\"degree\",0.0174532925199433,AUTHORITY[\"EPSG\",\"9122\"]],AUTHORITY[\"EPSG\",\"4326\"]],PROJECTION[\"Transverse_Mercator\"],PARAMETER[\"latitude_of_origin\",0],PARAMETER[\"central_meridian\",105],PARAMETER[\"scale_factor\",0.9996],PARAMETER[\"false_easting\",500000],PARAMETER[\"false_northing\",0],UNIT[\"metre\",1,AUTHORITY[\"EPSG\",\"9001\"]],AXIS[\"Easting\",EAST],AXIS[\"Northing\",NORTH],AUTHORITY[\"EPSG\",\"32648\"]]\n",
      "Geotransform:  (246717.33307071, 0.3, 0.0, 1989720.3061312002, 0.0, -0.3)\n",
      "Columns: 16384\n",
      "Rows: 12344\n",
      "Band count: 3\n"
     ]
    }
   ],
   "source": [
    "print(\"Projection: \", ds_mod.GetProjection())  # get projection\n",
    "print(\"Geotransform: \", ds_mod.GetGeoTransform())\n",
    "print(\"Columns:\", ds_mod.RasterXSize)  # number of columns\n",
    "print(\"Rows:\", ds_mod.RasterYSize)  # number of rows\n",
    "print(\"Band count:\", ds_mod.RasterCount)  # number of bands\n",
    "ds_mod = None"
   ]
  },
  {
   "cell_type": "code",
   "execution_count": 10,
   "metadata": {},
   "outputs": [
    {
     "name": "stdout",
     "output_type": "stream",
     "text": [
      "Size :  1651885775\n"
     ]
    }
   ],
   "source": [
    "print(\"Size : \", os.path.getsize(fn_mod))"
   ]
  },
  {
   "cell_type": "code",
   "execution_count": 11,
   "metadata": {},
   "outputs": [],
   "source": [
    "if compress:\n",
    "    ds_res = driver.Create(fn_res, ds.RasterXSize, ds.RasterYSize, n, data_type, options=options)\n",
    "else:\n",
    "    ds_res = driver.Create(fn_res, ds.RasterXSize, ds.RasterYSize, n, data_type)\n",
    "\n",
    "copy_geo_transform_and_projection(ds, ds_res)"
   ]
  },
  {
   "cell_type": "code",
   "execution_count": 12,
   "metadata": {},
   "outputs": [],
   "source": [
    "# Assuming the goal is to restore the \"deleted\" band to its original position (n_del)\n",
    "for i in range(1, n + 1):\n",
    "    if i < n_del:\n",
    "        # For bands before the deleted band, write their data as is\n",
    "        band_data = ds.GetRasterBand(i).ReadAsArray()\n",
    "        ds_res.GetRasterBand(i).WriteArray(band_data)\n",
    "    elif i == n_del:\n",
    "        # For the position of the deleted band, write the saved data\n",
    "        ds_res.GetRasterBand(n_del).WriteArray(data_del)\n",
    "    else:\n",
    "        # For bands after the deleted band, shift their original position by -1 for the current dataset\n",
    "        band_data = ds.GetRasterBand(i).ReadAsArray()\n",
    "        ds_res.GetRasterBand(i).WriteArray(band_data)\n"
   ]
  },
  {
   "cell_type": "code",
   "execution_count": 13,
   "metadata": {},
   "outputs": [
    {
     "name": "stdout",
     "output_type": "stream",
     "text": [
      "Projection:  PROJCS[\"WGS 84 / UTM zone 48N\",GEOGCS[\"WGS 84\",DATUM[\"WGS_1984\",SPHEROID[\"WGS 84\",6378137,298.257223563,AUTHORITY[\"EPSG\",\"7030\"]],AUTHORITY[\"EPSG\",\"6326\"]],PRIMEM[\"Greenwich\",0,AUTHORITY[\"EPSG\",\"8901\"]],UNIT[\"degree\",0.0174532925199433,AUTHORITY[\"EPSG\",\"9122\"]],AUTHORITY[\"EPSG\",\"4326\"]],PROJECTION[\"Transverse_Mercator\"],PARAMETER[\"latitude_of_origin\",0],PARAMETER[\"central_meridian\",105],PARAMETER[\"scale_factor\",0.9996],PARAMETER[\"false_easting\",500000],PARAMETER[\"false_northing\",0],UNIT[\"metre\",1,AUTHORITY[\"EPSG\",\"9001\"]],AXIS[\"Easting\",EAST],AXIS[\"Northing\",NORTH],AUTHORITY[\"EPSG\",\"32648\"]]\n",
      "Geotransform:  (246717.33307071, 0.3, 0.0, 1989720.3061312002, 0.0, -0.3)\n",
      "Columns: 16384\n",
      "Rows: 12344\n",
      "Band count: 4\n"
     ]
    }
   ],
   "source": [
    "print(\"Projection: \", ds_res.GetProjection())  # get projection\n",
    "print(\"Geotransform: \", ds_res.GetGeoTransform())\n",
    "print(\"Columns:\", ds_res.RasterXSize)  # number of columns\n",
    "print(\"Rows:\", ds_res.RasterYSize)  # number of rows\n",
    "print(\"Band count:\", ds_res.RasterCount)  # number of bands"
   ]
  },
  {
   "cell_type": "code",
   "execution_count": 14,
   "metadata": {},
   "outputs": [],
   "source": [
    "ds = None\n",
    "ds_res = None"
   ]
  },
  {
   "cell_type": "code",
   "execution_count": 15,
   "metadata": {},
   "outputs": [
    {
     "name": "stdout",
     "output_type": "stream",
     "text": [
      "Size :  2454538042\n"
     ]
    }
   ],
   "source": [
    "print(\"Size : \", os.path.getsize(fn_res))"
   ]
  }
 ],
 "metadata": {
  "kernelspec": {
   "display_name": "Python 3",
   "language": "python",
   "name": "python3"
  },
  "language_info": {
   "codemirror_mode": {
    "name": "ipython",
    "version": 3
   },
   "file_extension": ".py",
   "mimetype": "text/x-python",
   "name": "python",
   "nbconvert_exporter": "python",
   "pygments_lexer": "ipython3",
   "version": "3.10.12"
  }
 },
 "nbformat": 4,
 "nbformat_minor": 2
}
