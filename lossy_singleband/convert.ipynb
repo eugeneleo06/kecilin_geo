{
 "cells": [
  {
   "cell_type": "code",
   "execution_count": 1,
   "metadata": {},
   "outputs": [
    {
     "name": "stderr",
     "output_type": "stream",
     "text": [
      "/home/eugene/.local/lib/python3.10/site-packages/matplotlib/projections/__init__.py:63: UserWarning: Unable to import Axes3D. This may be due to multiple versions of Matplotlib being installed (e.g. as a system package and as a pip package). As a result, the 3D projection is not available.\n",
      "  warnings.warn(\"Unable to import Axes3D. This may be due to multiple versions of \"\n"
     ]
    }
   ],
   "source": [
    "from PIL import Image\n",
    "import numpy as np\n",
    "import matplotlib.pyplot as plt\n",
    "from skimage.metrics import structural_similarity as ssim\n",
    "from skimage.metrics import peak_signal_noise_ratio as psnr\n",
    "import subprocess\n",
    "import os\n",
    "import imagecodecs"
   ]
  },
  {
   "cell_type": "code",
   "execution_count": 2,
   "metadata": {},
   "outputs": [],
   "source": [
    "# Path to your original TIFF file\n",
    "input_image = 'input_singleband.TIF'\n",
    "original_size = os.path.getsize(input_image)\n",
    "\n",
    "# Quality levels and formats\n",
    "qualities = [99, 98, 97, 96, 95, 90, 85, 80, 75, 70, 65, 60, 55, 50, 45, 40] # range 5 until 10\n",
    "formats = ['JP2', 'JXL'] \n",
    "\n",
    "# Dictionary to store PSNR and SSIM values\n",
    "metrics = {f: {'PSNR': [], 'SSIM': [], 'BPP': []} for f in formats}"
   ]
  },
  {
   "cell_type": "code",
   "execution_count": 3,
   "metadata": {},
   "outputs": [],
   "source": [
    "def convert_image(input_path, output_path, format, q):\n",
    "    if format == \"JP2\":\n",
    "        # TODO ADD METADATA HERE CONVERSION\n",
    "        png_path = output_path.split(\".\")[0] + '.png'\n",
    "        os.system(f'gdal_translate -of PNG {input_path} {png_path}')\n",
    "        os.system(f'opj_compress -q {q} -i {png_path} -o {output_path}')\n",
    "        os.remove(png_path)\n",
    "    elif format == \"JXL\":\n",
    "        png_path = output_path.split(\".\")[0] + '.png'\n",
    "        os.system(f'gdal_translate -of PNG {input_path} {png_path}')\n",
    "        os.system(f'./cjxl -q {q} {png_path} {output_path} --quiet')\n",
    "        os.remove(png_path)\n",
    "\n",
    "def load_and_compare(original_path, compared_path):\n",
    "        original = imagecodecs.imread(original_path)\n",
    "        compared = imagecodecs.imread(compared_path)\n",
    "\n",
    "        if compared.ndim == 2:  # It's a grayscale image\n",
    "            height, width = compared.shape\n",
    "        elif compared.ndim == 3:  # It's a color image\n",
    "            height, width, channels = compared.shape\n",
    "\n",
    "        original = np.array(original)\n",
    "        compared = np.array(compared)\n",
    "        size = os.path.getsize(compared_path)\n",
    "        psnr_value = psnr(original, compared)\n",
    "        ssim_value = ssim(original, compared, data_range=255, full=True)\n",
    "        bpp = ( size * 8 ) / (width*height)\n",
    "        return psnr_value, ssim_value, bpp"
   ]
  },
  {
   "cell_type": "code",
   "execution_count": 4,
   "metadata": {},
   "outputs": [
    {
     "name": "stdout",
     "output_type": "stream",
     "text": [
      "Input file size is 6279, 6563\n",
      "0...10...20...30...40...50...60...70...80...90...100 - done.\n"
     ]
    },
    {
     "name": "stderr",
     "output_type": "stream",
     "text": [
      "\n"
     ]
    },
    {
     "name": "stdout",
     "output_type": "stream",
     "text": [
      "[INFO] tile number 1 / 1\n",
      "[INFO] Generated outfile output_99.jp2\n",
      "encode time: 6034 ms \n",
      "Input file size is 6279, 6563\n",
      "0...10...20...30...40...50...60...70...80...90...100 - done.\n"
     ]
    },
    {
     "name": "stderr",
     "output_type": "stream",
     "text": [
      "\n"
     ]
    },
    {
     "name": "stdout",
     "output_type": "stream",
     "text": [
      "[INFO] tile number 1 / 1\n",
      "[INFO] Generated outfile output_98.jp2\n",
      "encode time: 6043 ms \n",
      "Input file size is 6279, 6563\n",
      "0...10...20...30...40...50...60...70...80...90...100 - done.\n"
     ]
    },
    {
     "name": "stderr",
     "output_type": "stream",
     "text": [
      "\n"
     ]
    },
    {
     "name": "stdout",
     "output_type": "stream",
     "text": [
      "[INFO] tile number 1 / 1\n",
      "[INFO] Generated outfile output_97.jp2\n",
      "encode time: 6077 ms \n",
      "Input file size is 6279, 6563\n",
      "0...10...20...30...40...50...60...70...80...90...100 - done.\n"
     ]
    },
    {
     "name": "stderr",
     "output_type": "stream",
     "text": [
      "\n"
     ]
    },
    {
     "name": "stdout",
     "output_type": "stream",
     "text": [
      "[INFO] tile number 1 / 1\n",
      "[INFO] Generated outfile output_96.jp2\n",
      "encode time: 5933 ms \n",
      "Input file size is 6279, 6563\n",
      "0...10...20...30...40...50...60...70...80...90...100 - done.\n"
     ]
    },
    {
     "name": "stderr",
     "output_type": "stream",
     "text": [
      "\n"
     ]
    },
    {
     "name": "stdout",
     "output_type": "stream",
     "text": [
      "[INFO] tile number 1 / 1\n",
      "[INFO] Generated outfile output_95.jp2\n",
      "encode time: 6121 ms \n",
      "Input file size is 6279, 6563\n",
      "0...10...20...30...40...50...60...70...80...90...100 - done.\n"
     ]
    },
    {
     "name": "stderr",
     "output_type": "stream",
     "text": [
      "\n"
     ]
    },
    {
     "name": "stdout",
     "output_type": "stream",
     "text": [
      "[INFO] tile number 1 / 1\n",
      "[INFO] Generated outfile output_90.jp2\n",
      "encode time: 5933 ms \n",
      "Input file size is 6279, 6563\n",
      "0...10...20...30...40...50...60...70...80...90...100 - done.\n"
     ]
    },
    {
     "name": "stderr",
     "output_type": "stream",
     "text": [
      "\n"
     ]
    },
    {
     "name": "stdout",
     "output_type": "stream",
     "text": [
      "[INFO] tile number 1 / 1\n",
      "[INFO] Generated outfile output_85.jp2\n",
      "encode time: 5791 ms \n",
      "Input file size is 6279, 6563\n",
      "0...10...20...30...40...50...60...70...80...90...100 - done.\n"
     ]
    },
    {
     "name": "stderr",
     "output_type": "stream",
     "text": [
      "\n"
     ]
    },
    {
     "name": "stdout",
     "output_type": "stream",
     "text": [
      "[INFO] tile number 1 / 1\n",
      "[INFO] Generated outfile output_80.jp2\n",
      "encode time: 6032 ms \n",
      "Input file size is 6279, 6563\n",
      "0...10...20...30...40...50...60...70...80...90...100 - done.\n"
     ]
    },
    {
     "name": "stderr",
     "output_type": "stream",
     "text": [
      "\n"
     ]
    },
    {
     "name": "stdout",
     "output_type": "stream",
     "text": [
      "[INFO] tile number 1 / 1\n",
      "[INFO] Generated outfile output_75.jp2\n",
      "encode time: 5943 ms \n",
      "Input file size is 6279, 6563\n",
      "0...10...20...30...40...50...60...70...80...90...100 - done.\n"
     ]
    },
    {
     "name": "stderr",
     "output_type": "stream",
     "text": [
      "\n"
     ]
    },
    {
     "name": "stdout",
     "output_type": "stream",
     "text": [
      "[INFO] tile number 1 / 1\n",
      "[INFO] Generated outfile output_70.jp2\n",
      "encode time: 5896 ms \n",
      "Input file size is 6279, 6563\n",
      "0...10...20...30...40...50...60...70...80...90...100 - done.\n"
     ]
    },
    {
     "name": "stderr",
     "output_type": "stream",
     "text": [
      "\n"
     ]
    },
    {
     "name": "stdout",
     "output_type": "stream",
     "text": [
      "[INFO] tile number 1 / 1\n",
      "[INFO] Generated outfile output_65.jp2\n",
      "encode time: 5772 ms \n",
      "Input file size is 6279, 6563\n",
      "0...10...20...30...40...50...60...70...80...90...100 - done.\n"
     ]
    },
    {
     "name": "stderr",
     "output_type": "stream",
     "text": [
      "\n"
     ]
    },
    {
     "name": "stdout",
     "output_type": "stream",
     "text": [
      "[INFO] tile number 1 / 1\n",
      "[INFO] Generated outfile output_60.jp2\n",
      "encode time: 5693 ms \n",
      "Input file size is 6279, 6563\n",
      "0...10...20...30...40...50...60...70...80...90...100 - done.\n"
     ]
    },
    {
     "name": "stderr",
     "output_type": "stream",
     "text": [
      "\n"
     ]
    },
    {
     "name": "stdout",
     "output_type": "stream",
     "text": [
      "[INFO] tile number 1 / 1\n",
      "[INFO] Generated outfile output_55.jp2\n",
      "encode time: 5729 ms \n",
      "Input file size is 6279, 6563\n",
      "0...10...20...30...40...50...60...70...80...90...100 - done.\n"
     ]
    },
    {
     "name": "stderr",
     "output_type": "stream",
     "text": [
      "\n"
     ]
    },
    {
     "name": "stdout",
     "output_type": "stream",
     "text": [
      "[INFO] tile number 1 / 1\n",
      "[INFO] Generated outfile output_50.jp2\n",
      "encode time: 5732 ms \n",
      "Input file size is 6279, 6563\n",
      "0...10...20...30...40...50...60...70...80...90...100 - done.\n"
     ]
    },
    {
     "name": "stderr",
     "output_type": "stream",
     "text": [
      "\n"
     ]
    },
    {
     "name": "stdout",
     "output_type": "stream",
     "text": [
      "[INFO] tile number 1 / 1\n",
      "[INFO] Generated outfile output_45.jp2\n",
      "encode time: 5775 ms \n",
      "Input file size is 6279, 6563\n",
      "0...10...20...30...40...50...60...70...80...90...100 - done.\n"
     ]
    },
    {
     "name": "stderr",
     "output_type": "stream",
     "text": [
      "\n"
     ]
    },
    {
     "name": "stdout",
     "output_type": "stream",
     "text": [
      "[INFO] tile number 1 / 1\n",
      "[INFO] Generated outfile output_40.jp2\n",
      "encode time: 5565 ms \n",
      "Input file size is 6279, 6563\n",
      "0...10...20...30...40...50...60...70...80...90...100 - done.\n",
      "Input file size is 6279, 6563\n",
      "0...10...20...30...40...50...60...70...80...90...100 - done.\n",
      "Input file size is 6279, 6563\n",
      "0...10...20...30...40...50...60...70...80...90...100 - done.\n",
      "Input file size is 6279, 6563\n",
      "0...10...20...30...40...50...60...70...80...90...100 - done.\n",
      "Input file size is 6279, 6563\n",
      "0...10...20...30...40...50...60...70...80...90...100 - done.\n",
      "Input file size is 6279, 6563\n",
      "0...10...20...30...40...50...60...70...80...90...100 - done.\n",
      "Input file size is 6279, 6563\n",
      "0...10...20...30...40...50...60...70...80...90...100 - done.\n",
      "Input file size is 6279, 6563\n",
      "0...10...20...30...40...50...60...70...80...90...100 - done.\n",
      "Input file size is 6279, 6563\n",
      "0...10...20...30...40...50...60...70...80...90...100 - done.\n",
      "Input file size is 6279, 6563\n",
      "0...10...20...30...40...50...60...70...80...90...100 - done.\n",
      "Input file size is 6279, 6563\n",
      "0...10...20...30...40...50...60...70...80...90...100 - done.\n",
      "Input file size is 6279, 6563\n",
      "0...10...20...30...40...50...60...70...80...90...100 - done.\n",
      "Input file size is 6279, 6563\n",
      "0...10...20...30...40...50...60...70...80...90...100 - done.\n",
      "Input file size is 6279, 6563\n",
      "0...10...20...30...40...50...60...70...80...90...100 - done.\n",
      "Input file size is 6279, 6563\n",
      "0...10...20...30...40...50...60...70...80...90...100 - done.\n",
      "Input file size is 6279, 6563\n",
      "0...10...20...30...40...50...60...70...80...90...100 - done.\n"
     ]
    }
   ],
   "source": [
    "# Convert images\n",
    "for format in formats:\n",
    "    for quality in qualities:\n",
    "        output_path = f'output_{quality}.{format.lower()}'\n",
    "        convert_image(input_image, output_path, format, quality)"
   ]
  },
  {
   "cell_type": "code",
   "execution_count": 5,
   "metadata": {},
   "outputs": [],
   "source": [
    "# Calculate metrics\n",
    "for format in formats:\n",
    "    for quality in qualities:\n",
    "        output_path = f'output_{quality}.{format.lower()}'\n",
    "        psnr_value, ssim_value, bpp = load_and_compare(input_image, output_path)\n",
    "        metrics[format]['PSNR'].append(psnr_value)\n",
    "        metrics[format]['SSIM'].append(ssim_value[0])\n",
    "        metrics[format]['BPP'].append(bpp)"
   ]
  },
  {
   "cell_type": "code",
   "execution_count": 6,
   "metadata": {},
   "outputs": [
    {
     "data": {
      "image/png": "[encoded data removed]",
      "text/plain": [
       "<Figure size 800x600 with 1 Axes>"
      ]
     },
     "metadata": {},
     "output_type": "display_data"
    }
   ],
   "source": [
    "# PSNR vs. BPP Plot\n",
    "plt.figure(figsize=(8, 6))\n",
    "for format in formats:\n",
    "    plt.plot(metrics[format]['BPP'], metrics[format]['PSNR'], marker='o', label=f'{format} PSNR')\n",
    "plt.xlabel('BPP')\n",
    "plt.ylabel('PSNR (dB)')\n",
    "plt.title('PSNR vs. BPP')\n",
    "plt.legend()\n",
    "plt.grid(True)\n",
    "plt.show()\n"
   ]
  },
  {
   "cell_type": "code",
   "execution_count": 7,
   "metadata": {},
   "outputs": [
    {
     "data": {
      "image/png": "[encoded data removed]",
      "text/plain": [
       "<Figure size 800x600 with 1 Axes>"
      ]
     },
     "metadata": {},
     "output_type": "display_data"
    }
   ],
   "source": [
    "# PSNR vs. BPP Plot\n",
    "plt.figure(figsize=(8, 6))\n",
    "for format in formats:\n",
    "    plt.plot(metrics[format]['BPP'], metrics[format]['SSIM'], marker='o', label=f'{format} SSIM')\n",
    "plt.xlabel('BPP')\n",
    "plt.ylabel('SSIM')\n",
    "plt.title('SSIM vs. BPP')\n",
    "plt.legend()\n",
    "plt.grid(True)\n",
    "plt.show()\n",
    "\n",
    "# METRIC VS BPP\n",
    "# BPP = size (bit) / (w*h)"
   ]
  }
 ],
 "metadata": {
  "kernelspec": {
   "display_name": "Python 3",
   "language": "python",
   "name": "python3"
  },
  "language_info": {
   "codemirror_mode": {
    "name": "ipython",
    "version": 3
   },
   "file_extension": ".py",
   "mimetype": "text/x-python",
   "name": "python",
   "nbconvert_exporter": "python",
   "pygments_lexer": "ipython3",
   "version": "3.10.12"
  }
 },
 "nbformat": 4,
 "nbformat_minor": 2
}
